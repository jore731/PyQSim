{
 "cells": [
  {
   "cell_type": "code",
   "execution_count": null,
   "metadata": {
    "metadata": {}
   },
   "outputs": [],
   "source": [
    "!pip install qsimov numpy loguru"
   ]
  },
  {
   "cell_type": "code",
   "execution_count": 1,
   "metadata": {
    "metadata": {}
   },
   "outputs": [],
   "source": [
    "import numpy as np\n",
    "import cProfile\n",
    "import os\n",
    "os.environ['LOGURU_LEVEL']=\"INFO\""
   ]
  },
  {
   "cell_type": "code",
   "execution_count": 6,
   "metadata": {
    "metadata": {}
   },
   "outputs": [
    {
     "name": "stderr",
     "output_type": "stream",
     "text": [
      "\u001b[32m2024-05-10 05:29:08.689\u001b[0m | \u001b[1mINFO    \u001b[0m | \u001b[36mqasimod\u001b[0m:\u001b[36mapply_now\u001b[0m:\u001b[36m111\u001b[0m - \u001b[1mApplying 3 gates\u001b[0m\n",
      "\u001b[32m2024-05-10 05:29:08.690\u001b[0m | \u001b[1mINFO    \u001b[0m | \u001b[36mqasimod\u001b[0m:\u001b[36mapply_swaps\u001b[0m:\u001b[36m119\u001b[0m - \u001b[1mApplying 0 swaps\u001b[0m\n",
      "\u001b[32m2024-05-10 05:29:08.692\u001b[0m | \u001b[1mINFO    \u001b[0m | \u001b[36mqasimod\u001b[0m:\u001b[36mapply_swaps\u001b[0m:\u001b[36m119\u001b[0m - \u001b[1mApplying 0 swaps\u001b[0m\n"
     ]
    },
    {
     "name": "stdout",
     "output_type": "stream",
     "text": [
      "State     Value     \n",
      "|00111>   1.0       \n"
     ]
    }
   ],
   "source": [
    "import qasimod\n",
    "reg = qasimod.Register(5)\n",
    "reg.x([0,1,2])\n",
    "reg.apply_now()\n",
    "reg.visualize(only_ones=True)\n",
    "\n",
    "current_state = tuple(range(5))\n",
    "desired_state = tuple([1,3,4,0,2])"
   ]
  },
  {
   "cell_type": "code",
   "execution_count": 7,
   "metadata": {
    "metadata": {}
   },
   "outputs": [
    {
     "name": "stderr",
     "output_type": "stream",
     "text": [
      "\u001b[32m2024-05-10 05:29:10.338\u001b[0m | \u001b[1mINFO    \u001b[0m | \u001b[36mqasimod\u001b[0m:\u001b[36mapply_now\u001b[0m:\u001b[36m111\u001b[0m - \u001b[1mApplying 1 gates\u001b[0m\n",
      "\u001b[32m2024-05-10 05:29:10.340\u001b[0m | \u001b[1mINFO    \u001b[0m | \u001b[36mqasimod\u001b[0m:\u001b[36mapply_swaps\u001b[0m:\u001b[36m119\u001b[0m - \u001b[1mApplying 3 swaps\u001b[0m\n",
      "\u001b[32m2024-05-10 05:29:10.342\u001b[0m | \u001b[1mINFO    \u001b[0m | \u001b[36mqasimod\u001b[0m:\u001b[36mapply_swaps\u001b[0m:\u001b[36m119\u001b[0m - \u001b[1mApplying 3 swaps\u001b[0m\n"
     ]
    },
    {
     "name": "stdout",
     "output_type": "stream",
     "text": [
      "State     Value     \n",
      "|00111>   1.0       \n"
     ]
    }
   ],
   "source": [
    "reg.cccci([1,3,4,0,2])\n",
    "reg.apply_now()\n",
    "reg.visualize(only_ones=True)"
   ]
  },
  {
   "cell_type": "code",
   "execution_count": 8,
   "metadata": {
    "metadata": {}
   },
   "outputs": [
    {
     "name": "stdout",
     "output_type": "stream",
     "text": [
      "State     Value     \n",
      "|00111>   1.0       \n",
      "State     Value     \n",
      "|01101>   1.0       \n",
      "State     Value     \n",
      "|11001>   1.0       \n"
     ]
    }
   ],
   "source": [
    "swaps = qasimod.obtain_swaps(current_state, desired_state)\n",
    "swap_block = np.eye(1 << len(current_state))\n",
    "for swap in swaps:\n",
    "    reg.state = qasimod.compute_swap_gate(*swap, len(current_state)) @ reg.state\n",
    "    reg.visualize(only_ones=True)"
   ]
  },
  {
   "cell_type": "code",
   "execution_count": 3,
   "metadata": {
    "metadata": {}
   },
   "outputs": [
    {
     "name": "stderr",
     "output_type": "stream",
     "text": [
      "\u001b[32m2024-05-11 03:06:58.042\u001b[0m | \u001b[1mINFO    \u001b[0m | \u001b[36mPyQSim.Register\u001b[0m:\u001b[36mapply_now\u001b[0m:\u001b[36m76\u001b[0m - \u001b[1mApplying 12 gates\u001b[0m\n",
      "\u001b[32m2024-05-11 03:06:58.044\u001b[0m | \u001b[1mINFO    \u001b[0m | \u001b[36mPyQSim.Register\u001b[0m:\u001b[36mapply_swaps\u001b[0m:\u001b[36m84\u001b[0m - \u001b[1mApplying 0 swaps\u001b[0m\n",
      "\u001b[32m2024-05-11 03:06:58.252\u001b[0m | \u001b[1mINFO    \u001b[0m | \u001b[36mPyQSim.Register\u001b[0m:\u001b[36mapply_swaps\u001b[0m:\u001b[36m84\u001b[0m - \u001b[1mApplying 0 swaps\u001b[0m\n",
      "\u001b[32m2024-05-11 03:06:58.299\u001b[0m | \u001b[1mINFO    \u001b[0m | \u001b[36mPyQSim.Register\u001b[0m:\u001b[36mapply_now\u001b[0m:\u001b[36m76\u001b[0m - \u001b[1mApplying 1 gates\u001b[0m\n",
      "\u001b[32m2024-05-11 03:06:58.300\u001b[0m | \u001b[1mINFO    \u001b[0m | \u001b[36mPyQSim.Register\u001b[0m:\u001b[36mapply_swaps\u001b[0m:\u001b[36m84\u001b[0m - \u001b[1mApplying 0 swaps\u001b[0m\n",
      "\u001b[32m2024-05-11 03:06:58.428\u001b[0m | \u001b[1mINFO    \u001b[0m | \u001b[36mPyQSim.Register\u001b[0m:\u001b[36mapply_swaps\u001b[0m:\u001b[36m84\u001b[0m - \u001b[1mApplying 0 swaps\u001b[0m\n",
      "\u001b[32m2024-05-11 03:06:58.475\u001b[0m | \u001b[1mINFO    \u001b[0m | \u001b[36mPyQSim.Register\u001b[0m:\u001b[36mapply_now\u001b[0m:\u001b[36m76\u001b[0m - \u001b[1mApplying 1 gates\u001b[0m\n",
      "\u001b[32m2024-05-11 03:06:58.477\u001b[0m | \u001b[1mINFO    \u001b[0m | \u001b[36mPyQSim.Register\u001b[0m:\u001b[36mapply_swaps\u001b[0m:\u001b[36m84\u001b[0m - \u001b[1mApplying 0 swaps\u001b[0m\n",
      "\u001b[32m2024-05-11 03:06:58.628\u001b[0m | \u001b[1mINFO    \u001b[0m | \u001b[36mPyQSim.Register\u001b[0m:\u001b[36mapply_swaps\u001b[0m:\u001b[36m84\u001b[0m - \u001b[1mApplying 0 swaps\u001b[0m\n",
      "\u001b[32m2024-05-11 03:06:58.676\u001b[0m | \u001b[1mINFO    \u001b[0m | \u001b[36mPyQSim.Register\u001b[0m:\u001b[36mapply_now\u001b[0m:\u001b[36m76\u001b[0m - \u001b[1mApplying 1 gates\u001b[0m\n",
      "\u001b[32m2024-05-11 03:06:58.677\u001b[0m | \u001b[1mINFO    \u001b[0m | \u001b[36mPyQSim.Register\u001b[0m:\u001b[36mapply_swaps\u001b[0m:\u001b[36m84\u001b[0m - \u001b[1mApplying 0 swaps\u001b[0m\n",
      "\u001b[32m2024-05-11 03:06:58.873\u001b[0m | \u001b[1mINFO    \u001b[0m | \u001b[36mPyQSim.Register\u001b[0m:\u001b[36mapply_swaps\u001b[0m:\u001b[36m84\u001b[0m - \u001b[1mApplying 0 swaps\u001b[0m\n",
      "\u001b[32m2024-05-11 03:06:58.936\u001b[0m | \u001b[1mINFO    \u001b[0m | \u001b[36mPyQSim.Register\u001b[0m:\u001b[36mapply_now\u001b[0m:\u001b[36m76\u001b[0m - \u001b[1mApplying 1 gates\u001b[0m\n",
      "\u001b[32m2024-05-11 03:06:58.938\u001b[0m | \u001b[1mINFO    \u001b[0m | \u001b[36mPyQSim.Register\u001b[0m:\u001b[36mapply_swaps\u001b[0m:\u001b[36m84\u001b[0m - \u001b[1mApplying 0 swaps\u001b[0m\n",
      "\u001b[32m2024-05-11 03:06:59.078\u001b[0m | \u001b[1mINFO    \u001b[0m | \u001b[36mPyQSim.Register\u001b[0m:\u001b[36mapply_swaps\u001b[0m:\u001b[36m84\u001b[0m - \u001b[1mApplying 0 swaps\u001b[0m\n",
      "\u001b[32m2024-05-11 03:06:59.124\u001b[0m | \u001b[1mINFO    \u001b[0m | \u001b[36mPyQSim.Register\u001b[0m:\u001b[36mapply_now\u001b[0m:\u001b[36m76\u001b[0m - \u001b[1mApplying 1 gates\u001b[0m\n",
      "\u001b[32m2024-05-11 03:06:59.130\u001b[0m | \u001b[1mINFO    \u001b[0m | \u001b[36mPyQSim.Register\u001b[0m:\u001b[36mapply_swaps\u001b[0m:\u001b[36m84\u001b[0m - \u001b[1mApplying 10 swaps\u001b[0m\n"
     ]
    },
    {
     "name": "stdout",
     "output_type": "stream",
     "text": [
      "         10277 function calls (9869 primitive calls) in 43.659 seconds\n",
      "\n",
      "   Ordered by: standard name\n",
      "\n",
      "   ncalls  tottime  percall  cumtime  percall filename:lineno(function)\n",
      "        1    0.000    0.000   43.659   43.659 3618540124.py:6(test)\n",
      "       17    0.000    0.000    0.000    0.000 <__array_function__ internals>:177(amax)\n",
      "       17    0.000    0.000    0.000    0.000 <__array_function__ internals>:177(amin)\n",
      "      204    0.000    0.000    0.002    0.000 <__array_function__ internals>:177(expand_dims)\n",
      "       56    0.000    0.000    0.242    0.004 <__array_function__ internals>:177(kron)\n",
      "       10    0.000    0.000    0.000    0.000 <__array_function__ internals>:177(where)\n",
      "        1    0.000    0.000   43.659   43.659 <string>:1(<module>)\n",
      "        5    0.300    0.060    0.542    0.108 Register.py:107(_apply_gates)\n",
      "        5    0.000    0.000    0.251    0.050 Register.py:127(_reverse_swaps)\n",
      "        1    0.000    0.000    0.000    0.000 Register.py:13(__init__)\n",
      "        1    0.000    0.000    0.000    0.000 Register.py:174(h)\n",
      "        5    0.000    0.000    0.257    0.051 Register.py:184(cx)\n",
      "       61    0.000    0.000    0.000    0.000 Register.py:39(desired_qubits)\n",
      "       22    0.000    0.000    0.000    0.000 Register.py:46(expected_arrangement)\n",
      "       17    0.000    0.000    0.257    0.015 Register.py:66(queue_gate)\n",
      "        6    0.002    0.000   43.659    7.276 Register.py:75(apply_now)\n",
      "       11    0.512    0.047   43.101    3.918 Register.py:83(apply_swaps)\n",
      "        6    0.000    0.000   42.854    7.142 Register.py:96(_prepare_to_apply)\n",
      "       17    0.001    0.000    0.002    0.000 _datetime.py:13(__format__)\n",
      "      119    0.000    0.000    0.000    0.000 _datetime.py:79(get)\n",
      "       17    0.000    0.000    0.001    0.000 _datetime.py:88(aware_now)\n",
      "       34    0.001    0.000    0.001    0.000 _handler.py:110(_protected_lock)\n",
      "       17    0.000    0.000    0.027    0.002 _handler.py:127(emit)\n",
      "       83    0.001    0.000    0.030    0.000 _logger.py:1906(_log)\n",
      "       66    0.000    0.000    0.000    0.000 _logger.py:2038(debug)\n",
      "       17    0.000    0.000    0.030    0.002 _logger.py:2042(info)\n",
      "       17    0.000    0.000    0.000    0.000 _recattrs.py:16(__format__)\n",
      "       17    0.000    0.000    0.000    0.000 _recattrs.py:23(__init__)\n",
      "       17    0.000    0.000    0.000    0.000 _recattrs.py:37(__init__)\n",
      "       17    0.000    0.000    0.000    0.000 _recattrs.py:51(__init__)\n",
      "       17    0.000    0.000    0.000    0.000 _recattrs.py:8(__init__)\n",
      "       17    0.001    0.000    0.024    0.001 _simple_sinks.py:15(write)\n",
      "       17    0.000    0.000    0.001    0.000 arrayprint.py:1223(__init__)\n",
      "      204    0.000    0.000    0.000    0.000 arrayprint.py:1231(__call__)\n",
      "       17    0.000    0.000    0.003    0.000 arrayprint.py:1575(_array_str_implementation)\n",
      "       17    0.000    0.000    0.000    0.000 arrayprint.py:403(_get_formatdict)\n",
      "       17    0.000    0.000    0.001    0.000 arrayprint.py:410(<lambda>)\n",
      "       17    0.000    0.000    0.001    0.000 arrayprint.py:452(_get_format_function)\n",
      "       17    0.000    0.000    0.003    0.000 arrayprint.py:506(wrapper)\n",
      "       17    0.000    0.000    0.003    0.000 arrayprint.py:523(_array2string)\n",
      "       17    0.000    0.000    0.003    0.000 arrayprint.py:561(array2string)\n",
      "       17    0.000    0.000    0.000    0.000 arrayprint.py:64(_make_options_dict)\n",
      "       17    0.000    0.000    0.000    0.000 arrayprint.py:72(<dictcomp>)\n",
      "      204    0.000    0.000    0.000    0.000 arrayprint.py:739(_extendLine)\n",
      "      204    0.000    0.000    0.001    0.000 arrayprint.py:753(_extendLine_pretty)\n",
      "       17    0.000    0.000    0.002    0.000 arrayprint.py:780(_formatArray)\n",
      "   221/17    0.001    0.000    0.002    0.000 arrayprint.py:789(recurser)\n",
      "       34    0.000    0.000    0.000    0.000 calendar.py:58(__getitem__)\n",
      "       34    0.000    0.000    0.000    0.000 calendar.py:77(__getitem__)\n",
      "       17    0.000    0.000    0.001    0.000 contextlib.py:108(__enter__)\n",
      "       17    0.000    0.000    0.000    0.000 contextlib.py:117(__exit__)\n",
      "       17    0.000    0.000    0.000    0.000 contextlib.py:238(helper)\n",
      "       17    0.000    0.000    0.000    0.000 contextlib.py:82(__init__)\n",
      "       17    0.000    0.000    0.000    0.000 fromnumeric.py:2672(_amax_dispatcher)\n",
      "       17    0.000    0.000    0.000    0.000 fromnumeric.py:2677(amax)\n",
      "       17    0.000    0.000    0.000    0.000 fromnumeric.py:2797(_amin_dispatcher)\n",
      "       17    0.000    0.000    0.000    0.000 fromnumeric.py:2802(amin)\n",
      "       34    0.000    0.000    0.000    0.000 fromnumeric.py:69(_wrapreduction)\n",
      "       34    0.000    0.000    0.000    0.000 fromnumeric.py:70(<dictcomp>)\n",
      "       17    0.000    0.000    0.000    0.000 genericpath.py:121(_splitext)\n",
      "       51    0.000    0.000    0.000    0.000 iostream.py:137(_event_pipe)\n",
      "       51    0.000    0.000    0.019    0.000 iostream.py:259(schedule)\n",
      "       17    0.000    0.000    0.000    0.000 iostream.py:521(_is_master_process)\n",
      "       17    0.000    0.000    0.006    0.000 iostream.py:548(_schedule_flush)\n",
      "       17    0.000    0.000    0.017    0.001 iostream.py:563(flush)\n",
      "       17    0.000    0.000    0.007    0.000 iostream.py:626(write)\n",
      "       10    0.000    0.000    0.000    0.000 multiarray.py:341(where)\n",
      "      204    0.000    0.000    0.001    0.000 numeric.py:1347(normalize_axis_tuple)\n",
      "      204    0.000    0.000    0.000    0.000 numeric.py:1397(<listcomp>)\n",
      "       17    0.000    0.000    0.000    0.000 posixpath.py:117(splitext)\n",
      "       17    0.001    0.000    0.001    0.000 posixpath.py:140(basename)\n",
      "       17    0.000    0.000    0.000    0.000 posixpath.py:41(_get_sep)\n",
      "       17    0.000    0.000    0.000    0.000 process.py:189(name)\n",
      "       17    0.000    0.000    0.000    0.000 process.py:234(ident)\n",
      "       17    0.000    0.000    0.000    0.000 process.py:37(current_process)\n",
      "       17    0.000    0.000    0.000    0.000 process.py:99(_check_closed)\n",
      "       56    0.000    0.000    0.000    0.000 shape_base.py:1069(_kron_dispatcher)\n",
      "       56    0.239    0.004    0.242    0.004 shape_base.py:1073(kron)\n",
      "      204    0.000    0.000    0.000    0.000 shape_base.py:508(_expand_dims_dispatcher)\n",
      "      204    0.001    0.000    0.002    0.000 shape_base.py:512(expand_dims)\n",
      "      204    0.000    0.000    0.000    0.000 shape_base.py:600(<listcomp>)\n",
      "       51    0.018    0.000    0.018    0.000 socket.py:621(send)\n",
      "        5    0.000    0.000    0.004    0.001 swap.py:25(obtain_swaps)\n",
      "        1   42.563   42.563   42.569   42.569 swap.py:44(compute_swap_block)\n",
      "        1    0.003    0.003    0.004    0.004 swap.py:8(compute_swap_gate)\n",
      "       68    0.000    0.000    0.000    0.000 threading.py:1017(_wait_for_tstate_lock)\n",
      "       17    0.000    0.000    0.000    0.000 threading.py:1031(name)\n",
      "       51    0.000    0.000    0.000    0.000 threading.py:1047(ident)\n",
      "       68    0.000    0.000    0.000    0.000 threading.py:1071(is_alive)\n",
      "       34    0.000    0.000    0.000    0.000 threading.py:1306(current_thread)\n",
      "       17    0.000    0.000    0.000    0.000 threading.py:222(__init__)\n",
      "       17    0.000    0.000    0.000    0.000 threading.py:246(__enter__)\n",
      "       17    0.000    0.000    0.000    0.000 threading.py:249(__exit__)\n",
      "        3    0.000    0.000    0.000    0.000 threading.py:255(_release_save)\n",
      "        3    0.000    0.000    0.000    0.000 threading.py:258(_acquire_restore)\n",
      "        3    0.000    0.000    0.000    0.000 threading.py:261(_is_owned)\n",
      "        3    0.000    0.000    0.003    0.001 threading.py:270(wait)\n",
      "       17    0.000    0.000    0.000    0.000 threading.py:505(__init__)\n",
      "       68    0.000    0.000    0.000    0.000 threading.py:513(is_set)\n",
      "       17    0.000    0.000    0.003    0.000 threading.py:540(wait)\n",
      "       42    0.002    0.000    0.003    0.000 twodim_base.py:162(eye)\n",
      "        1    0.000    0.000    0.000    0.000 utils.py:18(wrapper)\n",
      "        1    0.000    0.000    0.000    0.000 utils.py:6(as_list)\n",
      "        1    0.000    0.000    0.000    0.000 validators.py:4(registry_creation)\n",
      "       84    0.000    0.000    0.000    0.000 {built-in method _operator.index}\n",
      "       20    0.000    0.000    0.000    0.000 {built-in method _thread.allocate_lock}\n",
      "       51    0.000    0.000    0.000    0.000 {built-in method _thread.get_ident}\n",
      "       34    0.000    0.000    0.000    0.000 {built-in method builtins.abs}\n",
      "        6    0.000    0.000    0.000    0.000 {built-in method builtins.all}\n",
      "       17    0.000    0.000    0.000    0.000 {built-in method builtins.divmod}\n",
      "        1    0.000    0.000   43.659   43.659 {built-in method builtins.exec}\n",
      "       34    0.000    0.000    0.000    0.000 {built-in method builtins.getattr}\n",
      "       17    0.000    0.000    0.000    0.000 {built-in method builtins.id}\n",
      "      436    0.000    0.000    0.000    0.000 {built-in method builtins.isinstance}\n",
      "       51    0.000    0.000    0.000    0.000 {built-in method builtins.issubclass}\n",
      "      204    0.000    0.000    0.000    0.000 {built-in method builtins.iter}\n",
      "     2023    0.001    0.000    0.001    0.000 {built-in method builtins.len}\n",
      "       17    0.000    0.000    0.000    0.000 {built-in method builtins.locals}\n",
      "      192    0.000    0.000    0.000    0.000 {built-in method builtins.max}\n",
      "      442    0.000    0.000    0.001    0.000 {built-in method builtins.next}\n",
      "       17    0.000    0.000    0.000    0.000 {built-in method combine}\n",
      "       17    0.000    0.000    0.000    0.000 {built-in method now}\n",
      "       66    0.000    0.000    0.000    0.000 {built-in method numpy.array}\n",
      "      260    0.000    0.000    0.000    0.000 {built-in method numpy.asanyarray}\n",
      "       17    0.000    0.000    0.000    0.000 {built-in method numpy.asarray}\n",
      "  304/100    0.000    0.000    0.243    0.002 {built-in method numpy.core._multiarray_umath.implement_array_function}\n",
      "      204    0.000    0.000    0.000    0.000 {built-in method numpy.core._multiarray_umath.normalize_axis_index}\n",
      "       43    0.001    0.000    0.001    0.000 {built-in method numpy.zeros}\n",
      "       34    0.000    0.000    0.000    0.000 {built-in method posix.fspath}\n",
      "       34    0.000    0.000    0.000    0.000 {built-in method posix.getpid}\n",
      "       17    0.000    0.000    0.000    0.000 {built-in method sys._getframe}\n",
      "       17    0.000    0.000    0.000    0.000 {built-in method time.localtime}\n",
      "       17    0.000    0.000    0.000    0.000 {method '__enter__' of '_thread.lock' objects}\n",
      "       17    0.000    0.000    0.000    0.000 {method '__exit__' of '_thread.lock' objects}\n",
      "       17    0.000    0.000    0.000    0.000 {method '__format__' of 'str' objects}\n",
      "       80    0.003    0.000    0.003    0.000 {method 'acquire' of '_thread.lock' objects}\n",
      "       17    0.000    0.000    0.000    0.000 {method 'add' of 'set' objects}\n",
      "       54    0.000    0.000    0.000    0.000 {method 'append' of 'collections.deque' objects}\n",
      "       34    0.000    0.000    0.000    0.000 {method 'copy' of 'dict' objects}\n",
      "        1    0.000    0.000    0.000    0.000 {method 'copy' of 'set' objects}\n",
      "       17    0.000    0.000    0.000    0.000 {method 'date' of 'datetime.datetime' objects}\n",
      "        1    0.000    0.000    0.000    0.000 {method 'disable' of '_lsprof.Profiler' objects}\n",
      "       17    0.000    0.000    0.000    0.000 {method 'discard' of 'set' objects}\n",
      "       17    0.000    0.000    0.000    0.000 {method 'endswith' of 'str' objects}\n",
      "       17    0.000    0.000    0.000    0.000 {method 'format' of 'str' objects}\n",
      "       17    0.000    0.000    0.002    0.000 {method 'format_map' of 'str' objects}\n",
      "       17    0.000    0.000    0.000    0.000 {method 'get' of 'ContextVar' objects}\n",
      "      119    0.000    0.000    0.000    0.000 {method 'group' of 're.Match' objects}\n",
      "       10    0.000    0.000    0.000    0.000 {method 'integers' of 'numpy.random._generator.Generator' objects}\n",
      "       17    0.000    0.000    0.000    0.000 {method 'issubset' of 'set' objects}\n",
      "       51    0.000    0.000    0.000    0.000 {method 'items' of 'dict' objects}\n",
      "       16    0.000    0.000    0.000    0.000 {method 'pop' of 'dict' objects}\n",
      "        4    0.000    0.000    0.000    0.000 {method 'pop' of 'list' objects}\n",
      "       34    0.000    0.000    0.000    0.000 {method 'reduce' of 'numpy.ufunc' objects}\n",
      "        3    0.000    0.000    0.000    0.000 {method 'release' of '_thread.lock' objects}\n",
      "       17    0.000    0.000    0.000    0.000 {method 'replace' of 'datetime.time' objects}\n",
      "      255    0.001    0.000    0.001    0.000 {method 'reshape' of 'numpy.ndarray' objects}\n",
      "       51    0.000    0.000    0.000    0.000 {method 'rfind' of 'str' objects}\n",
      "       17    0.000    0.000    0.000    0.000 {method 'rstrip' of 'str' objects}\n",
      "      204    0.000    0.000    0.000    0.000 {method 'splitlines' of 'str' objects}\n",
      "       68    0.000    0.000    0.000    0.000 {method 'strftime' of 'datetime.date' objects}\n",
      "       17    0.000    0.000    0.000    0.000 {method 'sub' of 're.Pattern' objects}\n",
      "       17    0.000    0.000    0.000    0.000 {method 'time' of 'datetime.datetime' objects}\n",
      "       34    0.000    0.000    0.000    0.000 {method 'timestamp' of 'datetime.datetime' objects}\n",
      "       17    0.000    0.000    0.000    0.000 {method 'timetuple' of 'datetime.datetime' objects}\n",
      "       17    0.000    0.000    0.000    0.000 {method 'total_seconds' of 'datetime.timedelta' objects}\n",
      "       17    0.000    0.000    0.000    0.000 {method 'tzname' of 'datetime.timezone' objects}\n",
      "       17    0.000    0.000    0.000    0.000 {method 'update' of 'dict' objects}\n",
      "       17    0.000    0.000    0.000    0.000 {method 'utcoffset' of 'datetime.timezone' objects}\n",
      "       78    0.000    0.000    0.000    0.000 {method 'values' of 'dict' objects}\n",
      "       17    0.000    0.000    0.000    0.000 {method 'write' of '_io.StringIO' objects}\n",
      "\n",
      "\n"
     ]
    },
    {
     "ename": "KeyboardInterrupt",
     "evalue": "",
     "output_type": "error",
     "traceback": [
      "\u001b[0;31m---------------------------------------------------------------------------\u001b[0m",
      "\u001b[0;31mKeyboardInterrupt\u001b[0m                         Traceback (most recent call last)",
      "Cell \u001b[0;32mIn[3], line 19\u001b[0m\n\u001b[1;32m     15\u001b[0m     reg\u001b[38;5;241m.\u001b[39mapply_now()\n\u001b[1;32m     17\u001b[0m     \u001b[38;5;66;03m# reg.visualize()\u001b[39;00m\n\u001b[0;32m---> 19\u001b[0m \u001b[43mcProfile\u001b[49m\u001b[38;5;241;43m.\u001b[39;49m\u001b[43mrun\u001b[49m\u001b[43m(\u001b[49m\u001b[38;5;124;43m'\u001b[39;49m\u001b[38;5;124;43mtest()\u001b[39;49m\u001b[38;5;124;43m'\u001b[39;49m\u001b[43m)\u001b[49m\n",
      "File \u001b[0;32m~/miniconda3/envs/maths/lib/python3.8/cProfile.py:17\u001b[0m, in \u001b[0;36mrun\u001b[0;34m(statement, filename, sort)\u001b[0m\n\u001b[1;32m     16\u001b[0m \u001b[38;5;28;01mdef\u001b[39;00m \u001b[38;5;21mrun\u001b[39m(statement, filename\u001b[38;5;241m=\u001b[39m\u001b[38;5;28;01mNone\u001b[39;00m, sort\u001b[38;5;241m=\u001b[39m\u001b[38;5;241m-\u001b[39m\u001b[38;5;241m1\u001b[39m):\n\u001b[0;32m---> 17\u001b[0m     \u001b[38;5;28;01mreturn\u001b[39;00m \u001b[43m_pyprofile\u001b[49m\u001b[38;5;241;43m.\u001b[39;49m\u001b[43m_Utils\u001b[49m\u001b[43m(\u001b[49m\u001b[43mProfile\u001b[49m\u001b[43m)\u001b[49m\u001b[38;5;241;43m.\u001b[39;49m\u001b[43mrun\u001b[49m\u001b[43m(\u001b[49m\u001b[43mstatement\u001b[49m\u001b[43m,\u001b[49m\u001b[43m \u001b[49m\u001b[43mfilename\u001b[49m\u001b[43m,\u001b[49m\u001b[43m \u001b[49m\u001b[43msort\u001b[49m\u001b[43m)\u001b[49m\n",
      "File \u001b[0;32m~/miniconda3/envs/maths/lib/python3.8/profile.py:54\u001b[0m, in \u001b[0;36m_Utils.run\u001b[0;34m(self, statement, filename, sort)\u001b[0m\n\u001b[1;32m     52\u001b[0m prof \u001b[38;5;241m=\u001b[39m \u001b[38;5;28mself\u001b[39m\u001b[38;5;241m.\u001b[39mprofiler()\n\u001b[1;32m     53\u001b[0m \u001b[38;5;28;01mtry\u001b[39;00m:\n\u001b[0;32m---> 54\u001b[0m     \u001b[43mprof\u001b[49m\u001b[38;5;241;43m.\u001b[39;49m\u001b[43mrun\u001b[49m\u001b[43m(\u001b[49m\u001b[43mstatement\u001b[49m\u001b[43m)\u001b[49m\n\u001b[1;32m     55\u001b[0m \u001b[38;5;28;01mexcept\u001b[39;00m \u001b[38;5;167;01mSystemExit\u001b[39;00m:\n\u001b[1;32m     56\u001b[0m     \u001b[38;5;28;01mpass\u001b[39;00m\n",
      "File \u001b[0;32m~/miniconda3/envs/maths/lib/python3.8/cProfile.py:96\u001b[0m, in \u001b[0;36mProfile.run\u001b[0;34m(self, cmd)\u001b[0m\n\u001b[1;32m     94\u001b[0m \u001b[38;5;28;01mimport\u001b[39;00m \u001b[38;5;21;01m__main__\u001b[39;00m\n\u001b[1;32m     95\u001b[0m \u001b[38;5;28mdict\u001b[39m \u001b[38;5;241m=\u001b[39m __main__\u001b[38;5;241m.\u001b[39m\u001b[38;5;18m__dict__\u001b[39m\n\u001b[0;32m---> 96\u001b[0m \u001b[38;5;28;01mreturn\u001b[39;00m \u001b[38;5;28;43mself\u001b[39;49m\u001b[38;5;241;43m.\u001b[39;49m\u001b[43mrunctx\u001b[49m\u001b[43m(\u001b[49m\u001b[43mcmd\u001b[49m\u001b[43m,\u001b[49m\u001b[43m \u001b[49m\u001b[38;5;28;43mdict\u001b[39;49m\u001b[43m,\u001b[49m\u001b[43m \u001b[49m\u001b[38;5;28;43mdict\u001b[39;49m\u001b[43m)\u001b[49m\n",
      "File \u001b[0;32m~/miniconda3/envs/maths/lib/python3.8/cProfile.py:101\u001b[0m, in \u001b[0;36mProfile.runctx\u001b[0;34m(self, cmd, globals, locals)\u001b[0m\n\u001b[1;32m     99\u001b[0m \u001b[38;5;28mself\u001b[39m\u001b[38;5;241m.\u001b[39menable()\n\u001b[1;32m    100\u001b[0m \u001b[38;5;28;01mtry\u001b[39;00m:\n\u001b[0;32m--> 101\u001b[0m     \u001b[43mexec\u001b[49m\u001b[43m(\u001b[49m\u001b[43mcmd\u001b[49m\u001b[43m,\u001b[49m\u001b[43m \u001b[49m\u001b[38;5;28;43mglobals\u001b[39;49m\u001b[43m,\u001b[49m\u001b[43m \u001b[49m\u001b[38;5;28;43mlocals\u001b[39;49m\u001b[43m)\u001b[49m\n\u001b[1;32m    102\u001b[0m \u001b[38;5;28;01mfinally\u001b[39;00m:\n\u001b[1;32m    103\u001b[0m     \u001b[38;5;28mself\u001b[39m\u001b[38;5;241m.\u001b[39mdisable()\n",
      "File \u001b[0;32m<string>:1\u001b[0m\n",
      "Cell \u001b[0;32mIn[3], line 14\u001b[0m, in \u001b[0;36mtest\u001b[0;34m()\u001b[0m\n\u001b[1;32m     12\u001b[0m         \u001b[38;5;28;01mcontinue\u001b[39;00m\n\u001b[1;32m     13\u001b[0m     reg\u001b[38;5;241m.\u001b[39mcx(control,target)\n\u001b[0;32m---> 14\u001b[0m     \u001b[43mreg\u001b[49m\u001b[38;5;241;43m.\u001b[39;49m\u001b[43mapply_now\u001b[49m\u001b[43m(\u001b[49m\u001b[43m)\u001b[49m\n\u001b[1;32m     15\u001b[0m reg\u001b[38;5;241m.\u001b[39mapply_now()\n",
      "File \u001b[0;32m/c/Users/PulidoJ/Repositories/MUCC/mucc/PyQSim/Register.py:78\u001b[0m, in \u001b[0;36mRegister.apply_now\u001b[0;34m(self)\u001b[0m\n\u001b[1;32m     76\u001b[0m logger\u001b[38;5;241m.\u001b[39minfo(\u001b[38;5;124mf\u001b[39m\u001b[38;5;124m\"\u001b[39m\u001b[38;5;124mApplying \u001b[39m\u001b[38;5;132;01m{\u001b[39;00m\u001b[38;5;28mlen\u001b[39m(\u001b[38;5;28mself\u001b[39m\u001b[38;5;241m.\u001b[39mpending_gates)\u001b[38;5;132;01m}\u001b[39;00m\u001b[38;5;124m gates\u001b[39m\u001b[38;5;124m\"\u001b[39m)\n\u001b[1;32m     77\u001b[0m logger\u001b[38;5;241m.\u001b[39mdebug(\u001b[38;5;124mf\u001b[39m\u001b[38;5;124m\"\u001b[39m\u001b[38;5;124mApplying \u001b[39m\u001b[38;5;132;01m{\u001b[39;00m\u001b[38;5;28mself\u001b[39m\u001b[38;5;241m.\u001b[39mpending_gates\u001b[38;5;132;01m}\u001b[39;00m\u001b[38;5;124m\"\u001b[39m)\n\u001b[0;32m---> 78\u001b[0m \u001b[38;5;28;43mself\u001b[39;49m\u001b[38;5;241;43m.\u001b[39;49m\u001b[43m_prepare_to_apply\u001b[49m\u001b[43m(\u001b[49m\u001b[43m)\u001b[49m\n\u001b[1;32m     79\u001b[0m \u001b[38;5;28mself\u001b[39m\u001b[38;5;241m.\u001b[39m_apply_gates()\n\u001b[1;32m     80\u001b[0m \u001b[38;5;28mself\u001b[39m\u001b[38;5;241m.\u001b[39m_reverse_swaps()\n",
      "File \u001b[0;32m/c/Users/PulidoJ/Repositories/MUCC/mucc/PyQSim/Register.py:105\u001b[0m, in \u001b[0;36mRegister._prepare_to_apply\u001b[0;34m(self)\u001b[0m\n\u001b[1;32m    101\u001b[0m swaps \u001b[38;5;241m=\u001b[39m obtain_swaps(\n\u001b[1;32m    102\u001b[0m     \u001b[38;5;28mtuple\u001b[39m(\u001b[38;5;28mself\u001b[39m\u001b[38;5;241m.\u001b[39mcurrent_qubits), \u001b[38;5;28mtuple\u001b[39m(\u001b[38;5;28mself\u001b[39m\u001b[38;5;241m.\u001b[39mexpected_arrangement)\n\u001b[1;32m    103\u001b[0m )\n\u001b[1;32m    104\u001b[0m logger\u001b[38;5;241m.\u001b[39mdebug(\u001b[38;5;124mf\u001b[39m\u001b[38;5;124m\"\u001b[39m\u001b[38;5;124mPreparation swaps: \u001b[39m\u001b[38;5;132;01m{\u001b[39;00mswaps\u001b[38;5;132;01m}\u001b[39;00m\u001b[38;5;124m\"\u001b[39m)\n\u001b[0;32m--> 105\u001b[0m \u001b[38;5;28;43mself\u001b[39;49m\u001b[38;5;241;43m.\u001b[39;49m\u001b[43mapply_swaps\u001b[49m\u001b[43m(\u001b[49m\u001b[43mswaps\u001b[49m\u001b[43m)\u001b[49m\n",
      "File \u001b[0;32m/c/Users/PulidoJ/Repositories/MUCC/mucc/PyQSim/Register.py:86\u001b[0m, in \u001b[0;36mRegister.apply_swaps\u001b[0;34m(self, swaps)\u001b[0m\n\u001b[1;32m     84\u001b[0m logger\u001b[38;5;241m.\u001b[39minfo(\u001b[38;5;124mf\u001b[39m\u001b[38;5;124m\"\u001b[39m\u001b[38;5;124mApplying \u001b[39m\u001b[38;5;132;01m{\u001b[39;00m\u001b[38;5;28mlen\u001b[39m(swaps)\u001b[38;5;132;01m}\u001b[39;00m\u001b[38;5;124m swaps\u001b[39m\u001b[38;5;124m\"\u001b[39m)\n\u001b[1;32m     85\u001b[0m logger\u001b[38;5;241m.\u001b[39mdebug(swaps)\n\u001b[0;32m---> 86\u001b[0m swap_block \u001b[38;5;241m=\u001b[39m \u001b[43mcompute_swap_block\u001b[49m\u001b[43m(\u001b[49m\u001b[43mswaps\u001b[49m\u001b[43m,\u001b[49m\u001b[43m \u001b[49m\u001b[38;5;28;43mself\u001b[39;49m\u001b[38;5;241;43m.\u001b[39;49m\u001b[43mnum_qubits\u001b[49m\u001b[43m)\u001b[49m\n\u001b[1;32m     87\u001b[0m \u001b[38;5;28mself\u001b[39m\u001b[38;5;241m.\u001b[39mstate \u001b[38;5;241m=\u001b[39m swap_block \u001b[38;5;241m@\u001b[39m \u001b[38;5;28mself\u001b[39m\u001b[38;5;241m.\u001b[39mstate\n\u001b[1;32m     88\u001b[0m \u001b[38;5;28mself\u001b[39m\u001b[38;5;241m.\u001b[39mcurrent_qubits \u001b[38;5;241m=\u001b[39m \u001b[38;5;28mself\u001b[39m\u001b[38;5;241m.\u001b[39mexpected_arrangement\n",
      "File \u001b[0;32m/c/Users/PulidoJ/Repositories/MUCC/mucc/PyQSim/compute/swap.py:48\u001b[0m, in \u001b[0;36mcompute_swap_block\u001b[0;34m(swaps, registry_size)\u001b[0m\n\u001b[1;32m     46\u001b[0m swap_block \u001b[38;5;241m=\u001b[39m np\u001b[38;5;241m.\u001b[39meye(\u001b[38;5;241m1\u001b[39m \u001b[38;5;241m<<\u001b[39m registry_size, dtype\u001b[38;5;241m=\u001b[39m\u001b[38;5;28mbool\u001b[39m)\n\u001b[1;32m     47\u001b[0m \u001b[38;5;28;01mfor\u001b[39;00m swap \u001b[38;5;129;01min\u001b[39;00m swaps:\n\u001b[0;32m---> 48\u001b[0m     swap_block \u001b[38;5;241m=\u001b[39m \u001b[43mcompute_swap_gate\u001b[49m\u001b[43m(\u001b[49m\u001b[38;5;241;43m*\u001b[39;49m\u001b[43mswap\u001b[49m\u001b[43m,\u001b[49m\u001b[43m \u001b[49m\u001b[43mregistry_size\u001b[49m\u001b[43m)\u001b[49m\u001b[43m \u001b[49m\u001b[38;5;241;43m@\u001b[39;49m\u001b[43m \u001b[49m\u001b[43mswap_block\u001b[49m\n\u001b[1;32m     49\u001b[0m \u001b[38;5;28;01mreturn\u001b[39;00m swap_block\n",
      "\u001b[0;31mKeyboardInterrupt\u001b[0m: "
     ]
    }
   ],
   "source": [
    "from PyQSim import Register\n",
    "import cProfile\n",
    "import numpy as np\n",
    "rng = np.random.default_rng()\n",
    "\n",
    "def test():\n",
    "    reg = Register(12)\n",
    "    reg.h(list(range(12)))\n",
    "    for _ in range(10):\n",
    "        control = rng.integers(12)\n",
    "        while (target := rng.integers(12)) == control:\n",
    "            continue\n",
    "        reg.cx(control,target)\n",
    "        reg.apply_now()\n",
    "    reg.apply_now()\n",
    "\n",
    "    # reg.visualize()\n",
    "\n",
    "cProfile.run('test()')"
   ]
  },
  {
   "cell_type": "code",
   "execution_count": null,
   "metadata": {
    "metadata": {}
   },
   "outputs": [],
   "source": [
    "import numpy as np\n",
    "\n",
    "def mask_generator_string(bit, length):\n",
    "    mask= np.array([int(i) for i in f\"{1 << bit:0{length}b}\"], dtype=bool)\n",
    "    antimask = mask ^ np.ones(length, dtype=bool)\n",
    "    return mask, antimask\n",
    "\n",
    "def mask_generator_not_string(bit, length):\n",
    "    mask = np.zeros(length, dtype=bool)\n",
    "    mask[bit] = 1\n",
    "    antimask = mask ^ np.ones(length, dtype=bool)\n",
    "    return mask, antimask\n",
    "\n",
    "def mask_generator_integers(bit, length):\n",
    "    mask = 1 << bit\n",
    "    antimask = ((1<<length)-1) ^ mask\n",
    "    return mask, antimask\n",
    "\n",
    "bit = 3\n",
    "length = 5\n",
    "print(\"mask_generator_string\")\n",
    "\n",
    "mask, antimask = mask_generator_string(bit, length)\n",
    "display(mask)\n",
    "display(antimask)\n",
    "\n",
    "print(\"mask_generator_not_string\")\n",
    "mask, antimask = mask_generator_not_string(bit, length)\n",
    "display(mask)\n",
    "display(antimask)\n",
    "\n",
    "print(\"mask_generator_integers\")\n",
    "mask, antimask = mask_generator_integers(bit, length)\n",
    "display(mask)\n",
    "display(antimask)\n"
   ]
  },
  {
   "cell_type": "code",
   "execution_count": null,
   "metadata": {
    "metadata": {}
   },
   "outputs": [],
   "source": [
    "import cProfile\n",
    "\n",
    "\n",
    "print(\"mask_generator_string\")\n",
    "cProfile.run('_ = [mask_generator_string(bit,length) for i in range(100000)]')\n"
   ]
  },
  {
   "cell_type": "code",
   "execution_count": null,
   "metadata": {
    "metadata": {}
   },
   "outputs": [],
   "source": [
    "print(\"mask_generator_not_string\")\n",
    "cProfile.run('_ = [mask_generator_not_string(bit,length) for i in range(100000)]')"
   ]
  },
  {
   "cell_type": "code",
   "execution_count": null,
   "metadata": {
    "metadata": {}
   },
   "outputs": [],
   "source": [
    "print(\"mask_generator_integers\")\n",
    "cProfile.run('_ = [mask_generator_integers(bit,length) for i in range(100000)]')"
   ]
  },
  {
   "cell_type": "code",
   "execution_count": null,
   "metadata": {
    "metadata": {}
   },
   "outputs": [],
   "source": [
    "np.kron(np.kron(1, np.array([[1,1],[1,-1]])),np.array([[1,1,0],[1,-1,1],[1,-1,1]]))"
   ]
  },
  {
   "cell_type": "code",
   "execution_count": null,
   "metadata": {
    "metadata": {}
   },
   "outputs": [],
   "source": [
    "a ={1,2,4}\n",
    "b = {1,2}\n",
    "b.issubset(a)"
   ]
  },
  {
   "cell_type": "code",
   "execution_count": null,
   "metadata": {
    "metadata": {}
   },
   "outputs": [],
   "source": [
    "a = [0,1,2,3,4,5]\n",
    "b = [3,1,4,0,5,2]\n",
    "\n",
    "newb=a.copy()\n",
    "for swap in zip(a,np.argsort(b)):\n",
    "    print(swap)\n",
    "    newb[swap[1]] = a[swap[0]]\n",
    "    print(newb)"
   ]
  },
  {
   "cell_type": "code",
   "execution_count": 1,
   "metadata": {},
   "outputs": [
    {
     "name": "stderr",
     "output_type": "stream",
     "text": [
      "\u001b[32m2024-05-11 03:01:35.991\u001b[0m | \u001b[1mINFO    \u001b[0m | \u001b[36mPyQSim.Register\u001b[0m:\u001b[36mapply_now\u001b[0m:\u001b[36m76\u001b[0m - \u001b[1mApplying 1 gates\u001b[0m\n",
      "\u001b[32m2024-05-11 03:01:35.992\u001b[0m | \u001b[34m\u001b[1mDEBUG   \u001b[0m | \u001b[36mPyQSim.Register\u001b[0m:\u001b[36mapply_now\u001b[0m:\u001b[36m77\u001b[0m - \u001b[34m\u001b[1mApplying {0: (<PyQSim.gates.Gate object at 0x7ff86decc910>, [0])}\u001b[0m\n",
      "\u001b[32m2024-05-11 03:01:35.992\u001b[0m | \u001b[34m\u001b[1mDEBUG   \u001b[0m | \u001b[36mPyQSim.Register\u001b[0m:\u001b[36m_prepare_to_apply\u001b[0m:\u001b[36m98\u001b[0m - \u001b[34m\u001b[1mTransforming (0,) into (0,)\u001b[0m\n",
      "\u001b[32m2024-05-11 03:01:35.993\u001b[0m | \u001b[34m\u001b[1mDEBUG   \u001b[0m | \u001b[36mPyQSim.compute.swap\u001b[0m:\u001b[36mobtain_swaps\u001b[0m:\u001b[36m30\u001b[0m - \u001b[34m\u001b[1mDesired state: [0]\u001b[0m\n",
      "\u001b[32m2024-05-11 03:01:35.994\u001b[0m | \u001b[34m\u001b[1mDEBUG   \u001b[0m | \u001b[36mPyQSim.Register\u001b[0m:\u001b[36m_prepare_to_apply\u001b[0m:\u001b[36m104\u001b[0m - \u001b[34m\u001b[1mPreparation swaps: ()\u001b[0m\n",
      "\u001b[32m2024-05-11 03:01:35.995\u001b[0m | \u001b[1mINFO    \u001b[0m | \u001b[36mPyQSim.Register\u001b[0m:\u001b[36mapply_swaps\u001b[0m:\u001b[36m84\u001b[0m - \u001b[1mApplying 0 swaps\u001b[0m\n",
      "\u001b[32m2024-05-11 03:01:35.995\u001b[0m | \u001b[34m\u001b[1mDEBUG   \u001b[0m | \u001b[36mPyQSim.Register\u001b[0m:\u001b[36mapply_swaps\u001b[0m:\u001b[36m85\u001b[0m - \u001b[34m\u001b[1m()\u001b[0m\n",
      "\u001b[32m2024-05-11 03:01:35.996\u001b[0m | \u001b[34m\u001b[1mDEBUG   \u001b[0m | \u001b[36mPyQSim.Register\u001b[0m:\u001b[36m_apply_gates\u001b[0m:\u001b[36m121\u001b[0m - \u001b[34m\u001b[1mBuffer\u001b[0m\n",
      "\u001b[32m2024-05-11 03:01:35.997\u001b[0m | \u001b[34m\u001b[1mDEBUG   \u001b[0m | \u001b[36mPyQSim.Register\u001b[0m:\u001b[36m_apply_gates\u001b[0m:\u001b[36m122\u001b[0m - \u001b[34m\u001b[1m[[ 0.70710678  0.70710678]\n",
      " [ 0.70710678 -0.70710678]]\u001b[0m\n",
      "\u001b[32m2024-05-11 03:01:35.998\u001b[0m | \u001b[34m\u001b[1mDEBUG   \u001b[0m | \u001b[36mPyQSim.Register\u001b[0m:\u001b[36m_apply_gates\u001b[0m:\u001b[36m123\u001b[0m - \u001b[34m\u001b[1mstate\u001b[0m\n",
      "\u001b[32m2024-05-11 03:01:35.998\u001b[0m | \u001b[34m\u001b[1mDEBUG   \u001b[0m | \u001b[36mPyQSim.Register\u001b[0m:\u001b[36m_apply_gates\u001b[0m:\u001b[36m124\u001b[0m - \u001b[34m\u001b[1m[[1.+0.j]\n",
      " [0.+0.j]]\u001b[0m\n",
      "\u001b[32m2024-05-11 03:01:35.999\u001b[0m | \u001b[1mINFO    \u001b[0m | \u001b[36mPyQSim.Register\u001b[0m:\u001b[36mapply_swaps\u001b[0m:\u001b[36m84\u001b[0m - \u001b[1mApplying 0 swaps\u001b[0m\n",
      "\u001b[32m2024-05-11 03:01:36.000\u001b[0m | \u001b[34m\u001b[1mDEBUG   \u001b[0m | \u001b[36mPyQSim.Register\u001b[0m:\u001b[36mapply_swaps\u001b[0m:\u001b[36m85\u001b[0m - \u001b[34m\u001b[1m()\u001b[0m\n"
     ]
    },
    {
     "data": {
      "text/plain": [
       "(array([0.]), array([1.57079633]))"
      ]
     },
     "execution_count": 1,
     "metadata": {},
     "output_type": "execute_result"
    }
   ],
   "source": [
    "from PyQSim import Register\n",
    "\n",
    "reg = Register(1)\n",
    "reg.h([0])\n",
    "reg.apply_now()\n",
    "reg.bloch_sphere"
   ]
  }
 ],
 "metadata": {
  "kernelspec": {
   "display_name": "maths",
   "language": "python",
   "name": "python3"
  },
  "language_info": {
   "codemirror_mode": {
    "name": "ipython",
    "version": 3
   },
   "file_extension": ".py",
   "mimetype": "text/x-python",
   "name": "python",
   "nbconvert_exporter": "python",
   "pygments_lexer": "ipython3",
   "version": "3.8.18"
  }
 },
 "nbformat": 4,
 "nbformat_minor": 2
}
