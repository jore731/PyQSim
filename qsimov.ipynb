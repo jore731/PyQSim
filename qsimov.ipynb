{
 "cells": [
  {
   "cell_type": "code",
   "execution_count": null,
   "metadata": {
    "metadata": {}
   },
   "source": [
    "!pip install qsimov numpy loguru"
   ],
   "outputs": []
  },
  {
   "cell_type": "code",
   "execution_count": 1,
   "metadata": {
    "metadata": {}
   },
   "source": [
    "import numpy as np\n",
    "import cProfile\n",
    "import os\n",
    "os.environ['LOGURU_LEVEL']=\"INFO\""
   ],
   "outputs": []
  },
  {
   "cell_type": "code",
   "execution_count": 6,
   "metadata": {
    "metadata": {}
   },
   "source": [
    "import qasimod\n",
    "reg = qasimod.StateVectorRegister(5)\n",
    "reg.x([0,1,2])\n",
    "reg.apply_now()\n",
    "reg.visualize(only_ones=True)\n",
    "\n",
    "current_state = tuple(range(5))\n",
    "desired_state = tuple([1,3,4,0,2])"
   ],
   "outputs": []
  },
  {
   "cell_type": "code",
   "execution_count": 7,
   "metadata": {
    "metadata": {}
   },
   "source": [
    "reg.cccci([1,3,4,0,2])\n",
    "reg.apply_now()\n",
    "reg.visualize(only_ones=True)"
   ],
   "outputs": []
  },
  {
   "cell_type": "code",
   "execution_count": 8,
   "metadata": {
    "metadata": {}
   },
   "source": [
    "swaps = qasimod.obtain_swaps(current_state, desired_state)\n",
    "swap_block = np.eye(1 << len(current_state))\n",
    "for swap in swaps:\n",
    "    reg.state = qasimod.compute_swap_gate(*swap, len(current_state)) @ reg.state\n",
    "    reg.visualize(only_ones=True)"
   ],
   "outputs": []
  },
  {
   "cell_type": "code",
   "execution_count": 3,
   "metadata": {
    "metadata": {}
   },
   "source": [
    "from PyQSim import Register\n",
    "import cProfile\n",
    "import numpy as np\n",
    "rng = np.random.default_rng()\n",
    "\n",
    "def test():\n",
    "    reg = Register(12)\n",
    "    reg.h(list(range(12)))\n",
    "    for _ in range(10):\n",
    "        control = rng.integers(12)\n",
    "        while (target := rng.integers(12)) == control:\n",
    "            continue\n",
    "        reg.cx(control,target)\n",
    "        reg.apply_now()\n",
    "    reg.apply_now()\n",
    "\n",
    "    # reg.visualize()\n",
    "\n",
    "cProfile.run('test()')"
   ],
   "outputs": []
  },
  {
   "cell_type": "code",
   "execution_count": null,
   "metadata": {
    "metadata": {}
   },
   "source": [
    "import numpy as np\n",
    "\n",
    "def mask_generator_string(bit, length):\n",
    "    mask= np.array([int(i) for i in f\"{1 << bit:0{length}b}\"], dtype=bool)\n",
    "    antimask = mask ^ np.ones(length, dtype=bool)\n",
    "    return mask, antimask\n",
    "\n",
    "def mask_generator_not_string(bit, length):\n",
    "    mask = np.zeros(length, dtype=bool)\n",
    "    mask[bit] = 1\n",
    "    antimask = mask ^ np.ones(length, dtype=bool)\n",
    "    return mask, antimask\n",
    "\n",
    "def mask_generator_integers(bit, length):\n",
    "    mask = 1 << bit\n",
    "    antimask = ((1<<length)-1) ^ mask\n",
    "    return mask, antimask\n",
    "\n",
    "bit = 3\n",
    "length = 5\n",
    "print(\"mask_generator_string\")\n",
    "\n",
    "mask, antimask = mask_generator_string(bit, length)\n",
    "display(mask)\n",
    "display(antimask)\n",
    "\n",
    "print(\"mask_generator_not_string\")\n",
    "mask, antimask = mask_generator_not_string(bit, length)\n",
    "display(mask)\n",
    "display(antimask)\n",
    "\n",
    "print(\"mask_generator_integers\")\n",
    "mask, antimask = mask_generator_integers(bit, length)\n",
    "display(mask)\n",
    "display(antimask)\n"
   ],
   "outputs": []
  },
  {
   "cell_type": "code",
   "execution_count": null,
   "metadata": {
    "metadata": {}
   },
   "source": [
    "import cProfile\n",
    "\n",
    "\n",
    "print(\"mask_generator_string\")\n",
    "cProfile.run('_ = [mask_generator_string(bit,length) for i in range(100000)]')\n"
   ],
   "outputs": []
  },
  {
   "cell_type": "code",
   "execution_count": null,
   "metadata": {
    "metadata": {}
   },
   "source": [
    "print(\"mask_generator_not_string\")\n",
    "cProfile.run('_ = [mask_generator_not_string(bit,length) for i in range(100000)]')"
   ],
   "outputs": []
  },
  {
   "cell_type": "code",
   "execution_count": null,
   "metadata": {
    "metadata": {}
   },
   "source": [
    "print(\"mask_generator_integers\")\n",
    "cProfile.run('_ = [mask_generator_integers(bit,length) for i in range(100000)]')"
   ],
   "outputs": []
  },
  {
   "cell_type": "code",
   "execution_count": null,
   "metadata": {
    "metadata": {}
   },
   "source": [
    "np.kron(np.kron(1, np.array([[1,1],[1,-1]])),np.array([[1,1,0],[1,-1,1],[1,-1,1]]))"
   ],
   "outputs": []
  },
  {
   "cell_type": "code",
   "execution_count": null,
   "metadata": {
    "metadata": {}
   },
   "source": [
    "a ={1,2,4}\n",
    "b = {1,2}\n",
    "b.issubset(a)"
   ],
   "outputs": []
  },
  {
   "cell_type": "code",
   "execution_count": null,
   "metadata": {
    "metadata": {}
   },
   "source": [
    "a = [0,1,2,3,4,5]\n",
    "b = [3,1,4,0,5,2]\n",
    "\n",
    "newb=a.copy()\n",
    "for swap in zip(a,np.argsort(b)):\n",
    "    print(swap)\n",
    "    newb[swap[1]] = a[swap[0]]\n",
    "    print(newb)"
   ],
   "outputs": []
  },
  {
   "metadata": {},
   "cell_type": "code",
   "execution_count": 1,
   "outputs": [
    {
     "name": "stderr",
     "output_type": "stream",
     "text": [
      "\u001B[32m2024-05-11 03:01:35.991\u001B[0m | \u001B[1mINFO    \u001B[0m | \u001B[36mPyQSim.Register\u001B[0m:\u001B[36mapply_now\u001B[0m:\u001B[36m76\u001B[0m - \u001B[1mApplying 1 gates\u001B[0m\n",
      "\u001B[32m2024-05-11 03:01:35.992\u001B[0m | \u001B[34m\u001B[1mDEBUG   \u001B[0m | \u001B[36mPyQSim.Register\u001B[0m:\u001B[36mapply_now\u001B[0m:\u001B[36m77\u001B[0m - \u001B[34m\u001B[1mApplying {0: (<PyQSim.gates.Gate object at 0x7ff86decc910>, [0])}\u001B[0m\n",
      "\u001B[32m2024-05-11 03:01:35.992\u001B[0m | \u001B[34m\u001B[1mDEBUG   \u001B[0m | \u001B[36mPyQSim.Register\u001B[0m:\u001B[36m_prepare_to_apply\u001B[0m:\u001B[36m98\u001B[0m - \u001B[34m\u001B[1mTransforming (0,) into (0,)\u001B[0m\n",
      "\u001B[32m2024-05-11 03:01:35.993\u001B[0m | \u001B[34m\u001B[1mDEBUG   \u001B[0m | \u001B[36mPyQSim.compute.swap\u001B[0m:\u001B[36mobtain_swaps\u001B[0m:\u001B[36m30\u001B[0m - \u001B[34m\u001B[1mDesired state: [0]\u001B[0m\n",
      "\u001B[32m2024-05-11 03:01:35.994\u001B[0m | \u001B[34m\u001B[1mDEBUG   \u001B[0m | \u001B[36mPyQSim.Register\u001B[0m:\u001B[36m_prepare_to_apply\u001B[0m:\u001B[36m104\u001B[0m - \u001B[34m\u001B[1mPreparation swaps: ()\u001B[0m\n",
      "\u001B[32m2024-05-11 03:01:35.995\u001B[0m | \u001B[1mINFO    \u001B[0m | \u001B[36mPyQSim.Register\u001B[0m:\u001B[36mapply_swaps\u001B[0m:\u001B[36m84\u001B[0m - \u001B[1mApplying 0 swaps\u001B[0m\n",
      "\u001B[32m2024-05-11 03:01:35.995\u001B[0m | \u001B[34m\u001B[1mDEBUG   \u001B[0m | \u001B[36mPyQSim.Register\u001B[0m:\u001B[36mapply_swaps\u001B[0m:\u001B[36m85\u001B[0m - \u001B[34m\u001B[1m()\u001B[0m\n",
      "\u001B[32m2024-05-11 03:01:35.996\u001B[0m | \u001B[34m\u001B[1mDEBUG   \u001B[0m | \u001B[36mPyQSim.Register\u001B[0m:\u001B[36m_apply_gates\u001B[0m:\u001B[36m121\u001B[0m - \u001B[34m\u001B[1mBuffer\u001B[0m\n",
      "\u001B[32m2024-05-11 03:01:35.997\u001B[0m | \u001B[34m\u001B[1mDEBUG   \u001B[0m | \u001B[36mPyQSim.Register\u001B[0m:\u001B[36m_apply_gates\u001B[0m:\u001B[36m122\u001B[0m - \u001B[34m\u001B[1m[[ 0.70710678  0.70710678]\n",
      " [ 0.70710678 -0.70710678]]\u001B[0m\n",
      "\u001B[32m2024-05-11 03:01:35.998\u001B[0m | \u001B[34m\u001B[1mDEBUG   \u001B[0m | \u001B[36mPyQSim.Register\u001B[0m:\u001B[36m_apply_gates\u001B[0m:\u001B[36m123\u001B[0m - \u001B[34m\u001B[1mstate\u001B[0m\n",
      "\u001B[32m2024-05-11 03:01:35.998\u001B[0m | \u001B[34m\u001B[1mDEBUG   \u001B[0m | \u001B[36mPyQSim.Register\u001B[0m:\u001B[36m_apply_gates\u001B[0m:\u001B[36m124\u001B[0m - \u001B[34m\u001B[1m[[1.+0.j]\n",
      " [0.+0.j]]\u001B[0m\n",
      "\u001B[32m2024-05-11 03:01:35.999\u001B[0m | \u001B[1mINFO    \u001B[0m | \u001B[36mPyQSim.Register\u001B[0m:\u001B[36mapply_swaps\u001B[0m:\u001B[36m84\u001B[0m - \u001B[1mApplying 0 swaps\u001B[0m\n",
      "\u001B[32m2024-05-11 03:01:36.000\u001B[0m | \u001B[34m\u001B[1mDEBUG   \u001B[0m | \u001B[36mPyQSim.Register\u001B[0m:\u001B[36mapply_swaps\u001B[0m:\u001B[36m85\u001B[0m - \u001B[34m\u001B[1m()\u001B[0m\n"
     ]
    },
    {
     "data": {
      "text/plain": [
       "(array([0.]), array([1.57079633]))"
      ]
     },
     "execution_count": 1,
     "metadata": {},
     "output_type": "execute_result"
    }
   ],
   "source": [
    "from PyQSim import Register\n",
    "\n",
    "reg = Register(1)\n",
    "reg.h([0])\n",
    "reg.apply_now()\n",
    "reg.bloch_sphere"
   ]
  }
 ],
 "metadata": {
  "kernelspec": {
   "display_name": "maths",
   "language": "python",
   "name": "python3"
  },
  "language_info": {
   "codemirror_mode": {
    "name": "ipython",
    "version": 3
   },
   "file_extension": ".py",
   "mimetype": "text/x-python",
   "name": "python",
   "nbconvert_exporter": "python",
   "pygments_lexer": "ipython3",
   "version": "3.8.18"
  }
 },
 "nbformat": 4,
 "nbformat_minor": 2
}
